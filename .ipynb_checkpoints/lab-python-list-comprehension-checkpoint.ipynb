{
 "cells": [
  {
   "cell_type": "markdown",
   "id": "25d7736c-ba17-4aff-b6bb-66eba20fbf4e",
   "metadata": {},
   "source": [
    "# Lab | List, Dict and Set Comprehension"
   ]
  },
  {
   "cell_type": "markdown",
   "id": "7dd3cbde-675a-4b81-92c3-f728846dbe06",
   "metadata": {},
   "source": [
    "## Exercise: Managing Customer Orders Optimized with Comprehension"
   ]
  },
  {
   "cell_type": "markdown",
   "id": "5d500160-2fb7-4777-b5e4-09d45ebaf328",
   "metadata": {},
   "source": [
    "In the previous exercise, you developed a program to manage customer orders and inventory. Now, let's take it a step further and incorporate comprehension into your code.\n",
    "\n",
    "Follow the steps below to complete the exercise:\n",
    "\n",
    "1. Review your code from the previous exercise and identify areas where you can apply comprehension to simplify and streamline your code. \n",
    "\n",
    "    - *Hint: Apply it to initialize inventory, updating the inventory and printing the updated inventory.*\n",
    "    \n",
    "    - For example, in initializing the inventory, we could have:\n",
    "    \n",
    "        ```python\n",
    "        def initialize_inventory(products):\n",
    "            inventory = {product: int(input(f\"Enter the quantity of {product}s available: \")) for product in products}\n",
    "            return inventory\n",
    "\n",
    "        ```\n",
    "<br>\n",
    "    \n",
    "    \n",
    "2. Modify the function get_customer_orders so it prompts the user to enter the number of customer orders and gathers the product names using a loop and user input. Use comprehension.\n",
    "\n",
    "3. Add a new function to calculate the total price of the customer order. For each product in customer_orders, prompt the user to enter the price of that product. Use comprehension to calculate the total price. Note: assume that the user can only have 1 unit of each product.\n",
    "\n",
    "4. Modify the update_inventory function to remove the product from the inventory if its quantity becomes zero after fulfilling the customer orders. Use comprehension to filter out the products with a quantity of zero from the inventory.\n",
    "\n",
    "5. Print the total price of the customer order.\n",
    "\n",
    "Your code should produce output similar to the following:\n",
    "\n",
    "```python\n",
    "Enter the quantity of t-shirts available:  5\n",
    "Enter the quantity of mugs available:  4\n",
    "Enter the quantity of hats available:  3\n",
    "Enter the quantity of books available:  2\n",
    "Enter the quantity of keychains available:  1\n",
    "Enter the number of customer orders:  2\n",
    "Enter the name of a product that a customer wants to order:  hat\n",
    "Enter the name of a product that a customer wants to order:  keychain\n",
    "\n",
    "Order Statistics:\n",
    "Total Products Ordered: 2\n",
    "Percentage of Unique Products Ordered: 40.0\n",
    "\n",
    "Updated Inventory:\n",
    "t-shirt: 5\n",
    "mug: 4\n",
    "hat: 2\n",
    "book: 2\n",
    "Enter the price of keychain:  5\n",
    "Enter the price of hat:  10\n",
    "Total Price: 15.0\n",
    "\n",
    "```\n"
   ]
  },
  {
   "cell_type": "code",
   "execution_count": null,
   "id": "3d0372dd-7bfd-405d-b87f-70ad15b3f034",
   "metadata": {},
   "outputs": [],
   "source": [
    "#Review your code from the previous exercise and identify areas where you can apply comprehension to simplify and streamline your code.\n",
    "#Previous Code:\n",
    "#def initialize_inventory(products):\n",
    "#    inventory = {product: int(input(f\"Enter the quantity of {product}s available: \")) for product in products}\n",
    "#    return inventory\n",
    "\n",
    "#def get_customer_orders():\n",
    "#    customer_orders = set()\n",
    "#    another_order = 'yes'\n",
    "#    while another_order == 'yes':\n",
    "#        customer_orders.add(input('Please enter your order. Today we sell t-shirt, mug, hat, book, keychain'))\n",
    "#        another_order = input('Do you want to order another product? Please answer with \"yes\" or \"no\".')\n",
    "#    return customer_orders\n",
    "\n",
    "#def update_inventory(customer_orders, inventory):\n",
    "#    inventory = {key:value-1 for key, value in inventory.items() if key in customer_orders}\n",
    "    #print(inventory) to check\n",
    "#    return inventory\n",
    "#ex_customer_orders = ['order1', 'order2']\n",
    "#ex_inventory = {'order1': 3, 'order2': 3}\n",
    "#update_inventory(ex_customer_orders, ex_inventory)\n",
    "\n",
    "#def calculate_order_statistics(customer_orders, products):\n",
    "#    tot_prod_ordered = len(customer_orders)\n",
    "#    percent_unique_prod_ordered = tot_prod_ordered / len(products)\n",
    "#    order_statistics = [tot_prod_ordered, percent_unique_prod_ordered]\n",
    "#    return order_statistics\n",
    "\n",
    "#def print_order_statistics(order_statistics):\n",
    "#    print(f'Order statistics\\nTotal of products ordered is: {order_statistics[0]}\\nThe percentage of products ordered is: {order_statistics[1]}')\n",
    "\n",
    "#def print_updated_inventory(inventory):\n",
    "#    [print(f'{quantity} {product}s in inventory.') for product, quantity in inventory.items()]\n",
    "#ex_inventory = {'order1': 3, 'order2': 3}\n",
    "#print_updated_inventory(ex_inventory)"
   ]
  },
  {
   "cell_type": "code",
   "execution_count": 112,
   "id": "58a432dd-0ee8-411c-86bd-346c035b0399",
   "metadata": {},
   "outputs": [
    {
     "name": "stdin",
     "output_type": "stream",
     "text": [
      "Please enter the number of products you want to order 5\n",
      "Please enter a product you want to order. Today we sell t-shirts, hats, mugs, books j\n",
      "Please enter a product you want to order. Today we sell t-shirts, hats, mugs, books j\n",
      "Please enter a product you want to order. Today we sell t-shirts, hats, mugs, books j\n",
      "Please enter a product you want to order. Today we sell t-shirts, hats, mugs, books j\n",
      "Please enter a product you want to order. Today we sell t-shirts, hats, mugs, books j\n"
     ]
    },
    {
     "data": {
      "text/plain": [
       "['j', 'j', 'j', 'j', 'j']"
      ]
     },
     "execution_count": 112,
     "metadata": {},
     "output_type": "execute_result"
    }
   ],
   "source": [
    "#Modify the function get_customer_orders so it prompts the user to enter the number of customer orders and gathers the product names\n",
    "#using a loop and user input. Use comprehension.\n",
    "#def get_customer_orders():\n",
    "#    products_ordered = [input('Please enter a product you want to order. Today we sell t-shirts, hats, mugs, books') for number in range(int(input('Please enter the number of products you want to order')))]\n",
    "#    return products_ordered\n",
    "\n",
    "#get_customer_orders()"
   ]
  },
  {
   "cell_type": "code",
   "execution_count": 79,
   "id": "4f0537b7-ad4a-4367-a219-06a12513649a",
   "metadata": {},
   "outputs": [
    {
     "name": "stdin",
     "output_type": "stream",
     "text": [
      "Type in the price you want to pay for a t-shirt 5\n",
      "Type in the price you want to pay for a hat 3\n"
     ]
    },
    {
     "data": {
      "text/plain": [
       "8"
      ]
     },
     "execution_count": 79,
     "metadata": {},
     "output_type": "execute_result"
    }
   ],
   "source": [
    "#Add a new function to calculate the total price of the customer order. For each product in customer_orders, prompt the user\n",
    "#to enter the price of that product. Use comprehension to calculate the total price.\n",
    "#Note: assume that the user can only have 1 unit of each product.\n",
    "\n",
    "#def total_price_co(customer_orders):\n",
    "#    price_list = [int(input(f'Type in the price you want to pay for a {product}')) for product in customer_orders]\n",
    "#    return sum(price_list)\n",
    "#cos = ['t-shirt', 'hat']\n",
    "#total_price_co(cos)"
   ]
  },
  {
   "cell_type": "code",
   "execution_count": 108,
   "id": "87cc3969-852b-4468-86dc-11db70ccad8d",
   "metadata": {},
   "outputs": [
    {
     "data": {
      "text/plain": [
       "{'t-shirt': 4, 'mug': 4, 'book': 5}"
      ]
     },
     "execution_count": 108,
     "metadata": {},
     "output_type": "execute_result"
    }
   ],
   "source": [
    "#Modify the update_inventory function to remove the product from the inventory if its quantity becomes zero after fulfilling the\n",
    "#customer orders. Use comprehension to filter out the products with a quantity of zero from the inventory.\n",
    "#def update_inventory(customer_orders, inventory):\n",
    "#    inventory = {key:value-1 if key in customer_orders else value for key, value in inventory.items() if value > 0}\n",
    "#    return inventory\n",
    "#ex_customer_orders = ['t-shirt', 'mug']\n",
    "#ex_inventory = {'t-shirt': 5, 'mug': 5, 'book':5}\n",
    "#update_inventory(ex_customer_orders, ex_inventory)"
   ]
  },
  {
   "cell_type": "code",
   "execution_count": 7,
   "id": "d04d1c65-1e25-4e23-9a57-93819f5ec807",
   "metadata": {},
   "outputs": [
    {
     "name": "stdin",
     "output_type": "stream",
     "text": [
      "Enter the quantity of t-shirts available:  5\n",
      "Enter the quantity of hats available:  5\n",
      "Enter the quantity of mugs available:  5\n",
      "Enter the quantity of books available:  5\n",
      "Enter the quantity of keychains available:  5\n",
      "Please enter the number of products you want to order 2\n",
      "Please enter a product you want to order. Today we sell t-shirts, hats, mugs, books t-shirt\n",
      "Please enter a product you want to order. Today we sell t-shirts, hats, mugs, books hat\n"
     ]
    },
    {
     "name": "stdout",
     "output_type": "stream",
     "text": [
      "Order statistics\n",
      "Total of products ordered is: 2\n",
      "The percentage of products ordered is: 0.4\n",
      "4 t-shirts in inventory.\n",
      "4 hats in inventory.\n",
      "5 mugs in inventory.\n",
      "5 books in inventory.\n",
      "5 keychains in inventory.\n"
     ]
    },
    {
     "name": "stdin",
     "output_type": "stream",
     "text": [
      "Type in the price you want to pay for a t-shirt 10\n",
      "Type in the price you want to pay for a hat 5\n"
     ]
    },
    {
     "name": "stdout",
     "output_type": "stream",
     "text": [
      "Total price is: 15.\n"
     ]
    }
   ],
   "source": [
    "#final\n",
    "def initialize_inventory(products):\n",
    "    inventory = {product: int(input(f\"Enter the quantity of {product}s available: \")) for product in products}\n",
    "    return inventory\n",
    "\n",
    "def get_customer_orders():\n",
    "    products_ordered = [input('Please enter a product you want to order. Today we sell t-shirts, hats, mugs, books') for number in range(int(input('Please enter the number of products you want to order')))]\n",
    "    return products_ordered\n",
    "\n",
    "def calculate_order_statistics(customer_orders, products):\n",
    "    tot_prod_ordered = len(customer_orders)\n",
    "    percent_unique_prod_ordered = tot_prod_ordered / len(products)\n",
    "    order_statistics = [tot_prod_ordered, percent_unique_prod_ordered]\n",
    "    return order_statistics\n",
    "\n",
    "def update_inventory(customer_orders, inventory):\n",
    "    inventory = {product:quantity-1 if product in customer_orders else quantity for product, quantity in inventory.items() if quantity > 0}\n",
    "    return inventory\n",
    "\n",
    "def print_order_statistics(order_statistics):\n",
    "    print(f'Order statistics\\nTotal of products ordered is: {order_statistics[0]}\\nThe percentage of products ordered is: {order_statistics[1]}')\n",
    "\n",
    "def print_updated_inventory(inventory):\n",
    "    [print(f'{quantity} {product}s in inventory.') for product, quantity in inventory.items()]\n",
    "\n",
    "def total_price_co(customer_orders):\n",
    "    price_list = [int(input(f'Type in the price you want to pay for a {product}')) for product in customer_orders]\n",
    "    return sum(price_list)\n",
    "\n",
    "def print_total_price(total_price):\n",
    "    print(f'Total price is: {total_price}.')\n",
    "\n",
    "ex_products = ['t-shirt','hat','mug','book','keychain']\n",
    "ex_inventory = initialize_inventory(ex_products)\n",
    "ex_customer_orders = get_customer_orders()\n",
    "ex_updated_inventory = update_inventory(ex_customer_orders, ex_inventory)\n",
    "ex_order_statistics = calculate_order_statistics(ex_customer_orders, ex_products)\n",
    "print_order_statistics(ex_order_statistics)\n",
    "print_updated_inventory(ex_updated_inventory)\n",
    "ex_total_price = total_price_co(ex_customer_orders)\n",
    "print_total_price(ex_total_price)"
   ]
  },
  {
   "cell_type": "code",
   "execution_count": null,
   "id": "bae14e76-7c30-49e0-8109-4f05c690e812",
   "metadata": {},
   "outputs": [],
   "source": []
  }
 ],
 "metadata": {
  "kernelspec": {
   "display_name": "Python 3 (ipykernel)",
   "language": "python",
   "name": "python3"
  },
  "language_info": {
   "codemirror_mode": {
    "name": "ipython",
    "version": 3
   },
   "file_extension": ".py",
   "mimetype": "text/x-python",
   "name": "python",
   "nbconvert_exporter": "python",
   "pygments_lexer": "ipython3",
   "version": "3.12.4"
  }
 },
 "nbformat": 4,
 "nbformat_minor": 5
}
